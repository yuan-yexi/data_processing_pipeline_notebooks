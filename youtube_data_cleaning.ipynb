{
  "nbformat": 4,
  "nbformat_minor": 0,
  "metadata": {
    "colab": {
      "name": "youtube_data_cleaning.ipynb",
      "provenance": [],
      "collapsed_sections": [],
      "authorship_tag": "ABX9TyNoC/0lyNMTAtJwclk1GkOM",
      "include_colab_link": true
    },
    "kernelspec": {
      "name": "python3",
      "display_name": "Python 3"
    },
    "language_info": {
      "name": "python"
    }
  },
  "cells": [
    {
      "cell_type": "markdown",
      "metadata": {
        "id": "view-in-github",
        "colab_type": "text"
      },
      "source": [
        "<a href=\"https://colab.research.google.com/github/yuan-yexi/data_processing_pipeline_notebooks/blob/master/youtube_data_cleaning.ipynb\" target=\"_parent\"><img src=\"https://colab.research.google.com/assets/colab-badge.svg\" alt=\"Open In Colab\"/></a>"
      ]
    },
    {
      "cell_type": "code",
      "metadata": {
        "id": "vOEfgitd5bAn"
      },
      "source": [
        "from google.colab import auth\n",
        "auth.authenticate_user()\n",
        "\n",
        "import gspread\n",
        "from oauth2client.client import GoogleCredentials\n",
        "\n",
        "gc = gspread.authorize(GoogleCredentials.get_application_default())"
      ],
      "execution_count": null,
      "outputs": []
    },
    {
      "cell_type": "code",
      "metadata": {
        "colab": {
          "base_uri": "https://localhost:8080/"
        },
        "id": "z3gk8P6hKOOr",
        "outputId": "9fd1e5c1-c8fb-4b0a-9030-2edf238b8916"
      },
      "source": [
        "# Use this code to directly use files from Google Drive\n",
        "from google.colab import drive\n",
        "drive.mount('/content/drive')"
      ],
      "execution_count": null,
      "outputs": [
        {
          "output_type": "stream",
          "text": [
            "Mounted at /content/drive\n"
          ],
          "name": "stdout"
        }
      ]
    },
    {
      "cell_type": "code",
      "metadata": {
        "id": "8n988YW75Jml"
      },
      "source": [
        "import pandas as pd\n",
        "from datetime import datetime\n",
        "pd.options.mode.chained_assignment = None  # default='warn'\n",
        "pd.options.display.max_columns = None # print all columns"
      ],
      "execution_count": null,
      "outputs": []
    },
    {
      "cell_type": "code",
      "metadata": {
        "id": "zzCPRBifFBdL"
      },
      "source": [
        "def generate_monthly_date_range(start, end):\n",
        "    start_date = start\n",
        "    end_date = end\n",
        "    \n",
        "    start_dates = pd.date_range(start=start_date, end=end_date, freq='MS').strftime(\"%Y-%m-%d\").tolist()[0:-1]\n",
        "    end_dates = pd.date_range(start=start_date, end=end_date, freq='MS').strftime(\"%Y-%m-%d\").tolist()[1:]\n",
        "    \n",
        "    monthly_dates = []\n",
        "\n",
        "    for (sd, ed) in zip(start_dates, end_dates):\n",
        "        monthly_dates.append([sd + '_' + ed, sd])\n",
        "    \n",
        "    return monthly_dates"
      ],
      "execution_count": null,
      "outputs": []
    },
    {
      "cell_type": "code",
      "metadata": {
        "id": "kRzwwWj3FSNM"
      },
      "source": [
        "column_names = [\n",
        "    'Video',\n",
        "    'Video title',\n",
        "    'Video publish time',\n",
        "    'Views',\n",
        "    'Watch time (hours)',\n",
        "    'Subscribers',\n",
        "    'Your estimated revenue (USD)',\n",
        "    'Impressions',\n",
        "    'Impressions click-through rate (%)',\n",
        "    'Month',\n",
        "    'Channel'    \n",
        "    ]\n",
        "\n",
        "ts_column_names = ['Date', 'Views', 'Watch time (hours)']"
      ],
      "execution_count": null,
      "outputs": []
    },
    {
      "cell_type": "markdown",
      "metadata": {
        "id": "OEpysCHdH43v"
      },
      "source": [
        "**Discovery Channel Southeast Asia**"
      ]
    },
    {
      "cell_type": "code",
      "metadata": {
        "colab": {
          "base_uri": "https://localhost:8080/"
        },
        "id": "tcFgOpB5zu9K",
        "outputId": "d61a226d-d543-4116-ad06-f7c60885f987"
      },
      "source": [
        "# Initiate empty dataframes\n",
        "main_dataframe_disc = pd.DataFrame(columns=column_names)\n",
        "ts_dataframe_disc = pd.DataFrame(columns=ts_column_names)\n",
        "\n",
        "# Generate dates\n",
        "dates = generate_monthly_date_range('2020-01-01', '2021-05-01')\n",
        "\n",
        "# Create monthly top 500 videos dataframe\n",
        "for date in dates:\n",
        "    print('Video ' + str(date[0]) + ' Discovery Channel Southeast Asia')\n",
        "\n",
        "    # read main table worksheet from drive\n",
        "    worksheet = gc.open('Video ' + date[0] + ' Discovery Channel Southeast Asia').get_worksheet(0)\n",
        "    # get_all_values gives a list of rows.\n",
        "    rows = worksheet.get_all_values()\n",
        "    # Convert to DataFrame\n",
        "    dataframe = pd.DataFrame.from_records(rows[2:-1], columns=rows[0])\n",
        "    # Create Month Column\n",
        "    dataframe['Month'] = date[1]\n",
        "    # Create Channel Name Column\n",
        "    dataframe['Channel'] = 'Discovery Channel Southeast Asia'\n",
        "\n",
        "    # read timeseries worksheet from drive\n",
        "    worksheet_ts = gc.open('Video ' + date[0] + ' Discovery Channel Southeast Asia').get_worksheet(2)\n",
        "    # get_all_values gives a list of rows.\n",
        "    rows_ts = worksheet_ts.get_all_values()\n",
        "    # Convert to DataFrame\n",
        "    dataframe_ts = pd.DataFrame.from_records(rows_ts[1:], columns=rows_ts[0])\n",
        "    # Create Month Column\n",
        "    dataframe_ts['Channel'] = 'Discovery Channel Southeast Asia'\n",
        "\n",
        "    # Append to main dataframe\n",
        "    main_dataframe_disc = main_dataframe_disc.append(dataframe)\n",
        "    ts_dataframe_disc = ts_dataframe_disc.append(dataframe_ts)"
      ],
      "execution_count": null,
      "outputs": [
        {
          "output_type": "stream",
          "text": [
            "Video 2020-01-01_2020-02-01 Discovery Channel Southeast Asia\n",
            "Video 2020-02-01_2020-03-01 Discovery Channel Southeast Asia\n",
            "Video 2020-03-01_2020-04-01 Discovery Channel Southeast Asia\n",
            "Video 2020-04-01_2020-05-01 Discovery Channel Southeast Asia\n",
            "Video 2020-05-01_2020-06-01 Discovery Channel Southeast Asia\n",
            "Video 2020-06-01_2020-07-01 Discovery Channel Southeast Asia\n",
            "Video 2020-07-01_2020-08-01 Discovery Channel Southeast Asia\n",
            "Video 2020-08-01_2020-09-01 Discovery Channel Southeast Asia\n",
            "Video 2020-09-01_2020-10-01 Discovery Channel Southeast Asia\n",
            "Video 2020-10-01_2020-11-01 Discovery Channel Southeast Asia\n",
            "Video 2020-11-01_2020-12-01 Discovery Channel Southeast Asia\n",
            "Video 2020-12-01_2021-01-01 Discovery Channel Southeast Asia\n",
            "Video 2021-01-01_2021-02-01 Discovery Channel Southeast Asia\n",
            "Video 2021-02-01_2021-03-01 Discovery Channel Southeast Asia\n",
            "Video 2021-03-01_2021-04-01 Discovery Channel Southeast Asia\n",
            "Video 2021-04-01_2021-05-01 Discovery Channel Southeast Asia\n"
          ],
          "name": "stdout"
        }
      ]
    },
    {
      "cell_type": "markdown",
      "metadata": {
        "id": "Sg-adag9IpOs"
      },
      "source": [
        "**TLC Southeast Asia**"
      ]
    },
    {
      "cell_type": "code",
      "metadata": {
        "id": "t_hS7iDK-uMp",
        "colab": {
          "base_uri": "https://localhost:8080/"
        },
        "outputId": "22a1de55-1863-4edd-8863-e72a06022893"
      },
      "source": [
        "# Initiate empty dataframe\n",
        "main_dataframe_tlc = pd.DataFrame(columns=column_names)\n",
        "ts_dataframe_tlc = pd.DataFrame(columns=ts_column_names)\n",
        "\n",
        "# Generate dates\n",
        "dates = generate_monthly_date_range('2020-01-01', '2021-05-01')\n",
        "\n",
        "# Create monthly top 500 videos dataframe\n",
        "for date in dates:\n",
        "    print('Video ' + str(date[0]) + ' TLC Southeast Asia')\n",
        "\n",
        "    # read worksheet from drive\n",
        "    worksheet = gc.open('Video ' + date[0] + ' TLC Southeast Asia').sheet1\n",
        "    # get_all_values gives a list of rows.\n",
        "    rows = worksheet.get_all_values()\n",
        "    # Convert to DataFrame\n",
        "    dataframe = pd.DataFrame.from_records(rows[2:-1], columns=rows[0])\n",
        "    # Create Month Column\n",
        "    dataframe['Month'] = date[1]\n",
        "    # Create Channel Name Column\n",
        "    dataframe['Channel'] = 'TLC Southeast Asia'\n",
        "\n",
        "    # read timeseries worksheet from drive\n",
        "    worksheet_ts = gc.open('Video ' + date[0] + ' TLC Southeast Asia').get_worksheet(2)\n",
        "    # get_all_values gives a list of rows.\n",
        "    rows_ts = worksheet_ts.get_all_values()\n",
        "    # Convert to DataFrame\n",
        "    dataframe_ts = pd.DataFrame.from_records(rows_ts[1:], columns=rows_ts[0])\n",
        "    # Create Month Column\n",
        "    dataframe_ts['Channel'] = 'TLC Southeast Asia'\n",
        "\n",
        "    # Append to main dataframe\n",
        "    main_dataframe_tlc = main_dataframe_tlc.append(dataframe)\n",
        "    ts_dataframe_tlc = ts_dataframe_tlc.append(dataframe_ts)"
      ],
      "execution_count": null,
      "outputs": [
        {
          "output_type": "stream",
          "text": [
            "Video 2020-01-01_2020-02-01 TLC Southeast Asia\n",
            "Video 2020-02-01_2020-03-01 TLC Southeast Asia\n",
            "Video 2020-03-01_2020-04-01 TLC Southeast Asia\n",
            "Video 2020-04-01_2020-05-01 TLC Southeast Asia\n",
            "Video 2020-05-01_2020-06-01 TLC Southeast Asia\n",
            "Video 2020-06-01_2020-07-01 TLC Southeast Asia\n",
            "Video 2020-07-01_2020-08-01 TLC Southeast Asia\n",
            "Video 2020-08-01_2020-09-01 TLC Southeast Asia\n",
            "Video 2020-09-01_2020-10-01 TLC Southeast Asia\n",
            "Video 2020-10-01_2020-11-01 TLC Southeast Asia\n",
            "Video 2020-11-01_2020-12-01 TLC Southeast Asia\n",
            "Video 2020-12-01_2021-01-01 TLC Southeast Asia\n",
            "Video 2021-01-01_2021-02-01 TLC Southeast Asia\n",
            "Video 2021-02-01_2021-03-01 TLC Southeast Asia\n",
            "Video 2021-03-01_2021-04-01 TLC Southeast Asia\n",
            "Video 2021-04-01_2021-05-01 TLC Southeast Asia\n"
          ],
          "name": "stdout"
        }
      ]
    },
    {
      "cell_type": "markdown",
      "metadata": {
        "id": "Adeyhjy_IISb"
      },
      "source": [
        "**HGTV Asia**"
      ]
    },
    {
      "cell_type": "code",
      "metadata": {
        "colab": {
          "base_uri": "https://localhost:8080/"
        },
        "id": "VYksbPcGIKqo",
        "outputId": "899f10de-db12-4a06-be1b-041092fecf8c"
      },
      "source": [
        "# Initiate empty dataframes\n",
        "main_dataframe_hgtv = pd.DataFrame(columns=column_names)\n",
        "ts_dataframe_hgtv = pd.DataFrame(columns=ts_column_names)\n",
        "\n",
        "# Generate dates\n",
        "dates = generate_monthly_date_range('2020-01-01', '2021-05-01')\n",
        "\n",
        "# Create monthly top 500 videos dataframe\n",
        "for date in dates:\n",
        "    print('Video ' + str(date[0]) + ' HGTV Asia')\n",
        "\n",
        "    # read main table worksheet from drive\n",
        "    worksheet = gc.open('Video ' + date[0] + ' HGTV Asia').get_worksheet(0)\n",
        "    # get_all_values gives a list of rows.\n",
        "    rows = worksheet.get_all_values()\n",
        "    # Convert to DataFrame\n",
        "    dataframe = pd.DataFrame.from_records(rows[2:-1], columns=rows[0])\n",
        "    # Create Month Column\n",
        "    dataframe['Month'] = date[1]\n",
        "    # Create Channel Name Column\n",
        "    dataframe['Channel'] = 'HGTV Asia'\n",
        "\n",
        "    # read timeseries worksheet from drive\n",
        "    worksheet_ts = gc.open('Video ' + date[0] + ' HGTV Asia').get_worksheet(2)\n",
        "    # get_all_values gives a list of rows.\n",
        "    rows_ts = worksheet_ts.get_all_values()\n",
        "    # Convert to DataFrame\n",
        "    dataframe_ts = pd.DataFrame.from_records(rows_ts[1:], columns=rows_ts[0])\n",
        "    # Create Month Column\n",
        "    dataframe_ts['Channel'] = 'HGTV Asia'\n",
        "\n",
        "    # Append to main dataframe\n",
        "    main_dataframe_hgtv = main_dataframe_hgtv.append(dataframe)\n",
        "    ts_dataframe_hgtv = ts_dataframe_hgtv.append(dataframe_ts)"
      ],
      "execution_count": null,
      "outputs": [
        {
          "output_type": "stream",
          "text": [
            "Video 2020-01-01_2020-02-01 HGTV Asia\n",
            "Video 2020-02-01_2020-03-01 HGTV Asia\n",
            "Video 2020-03-01_2020-04-01 HGTV Asia\n",
            "Video 2020-04-01_2020-05-01 HGTV Asia\n",
            "Video 2020-05-01_2020-06-01 HGTV Asia\n",
            "Video 2020-06-01_2020-07-01 HGTV Asia\n",
            "Video 2020-07-01_2020-08-01 HGTV Asia\n",
            "Video 2020-08-01_2020-09-01 HGTV Asia\n",
            "Video 2020-09-01_2020-10-01 HGTV Asia\n",
            "Video 2020-10-01_2020-11-01 HGTV Asia\n",
            "Video 2020-11-01_2020-12-01 HGTV Asia\n",
            "Video 2020-12-01_2021-01-01 HGTV Asia\n",
            "Video 2021-01-01_2021-02-01 HGTV Asia\n",
            "Video 2021-02-01_2021-03-01 HGTV Asia\n",
            "Video 2021-03-01_2021-04-01 HGTV Asia\n",
            "Video 2021-04-01_2021-05-01 HGTV Asia\n"
          ],
          "name": "stdout"
        }
      ]
    },
    {
      "cell_type": "code",
      "metadata": {
        "id": "pBqTAXpFKx4b"
      },
      "source": [
        "main_dataframe_hgtv.to_excel(\"/content/drive/My Drive/YouTube Reports/Exports/yt_export_main_hgtv.xlsx\", index=False)\n",
        "ts_dataframe_hgtv.to_excel(\"/content/drive/My Drive/YouTube Reports/Exports/yt_export_ts_hgtv.xlsx\", index=False)"
      ],
      "execution_count": null,
      "outputs": []
    },
    {
      "cell_type": "code",
      "metadata": {
        "id": "3drlHNehI6Lj"
      },
      "source": [
        "main_dataframe_disc.to_excel(\"/content/drive/My Drive/YouTube Reports/Exports/yt_export_main_table_discovery.xlsx\", index=False)\n",
        "main_dataframe_tlc.to_excel(\"/content/drive/My Drive/YouTube Reports/Exports/yt_export_main_table_tlc.xlsx\", index=False)\n",
        "main_dataframe_hgtv.to_excel(\"/content/drive/My Drive/YouTube Reports/Exports/yt_export_main_hgtv.xlsx\", index=False)\n",
        "\n",
        "ts_dataframe_disc.to_excel(\"/content/drive/My Drive/YouTube Reports/Exports/yt_export_ts_discovery.xlsx\", index=False)\n",
        "ts_dataframe_tlc.to_excel(\"/content/drive/My Drive/YouTube Reports/Exports/yt_export_ts_tlc.xlsx\", index=False)\n",
        "ts_dataframe_hgtv.to_excel(\"/content/drive/My Drive/YouTube Reports/Exports/yt_export_ts_hgtv.xlsx\", index=False)"
      ],
      "execution_count": null,
      "outputs": []
    }
  ]
}